{
 "cells": [
  {
   "cell_type": "code",
   "execution_count": 19,
   "id": "8de09aaa",
   "metadata": {},
   "outputs": [],
   "source": [
    "import os\n",
    "import matplotlib.pyplot as plt\n",
    "import pandas as pd\n",
    "from sklearn.preprocessing import StandardScaler\n",
    "from sklearn.ensemble import GradientBoostingRegressor\n",
    "from sklearn.metrics import r2_score"
   ]
  },
  {
   "cell_type": "code",
   "execution_count": 20,
   "id": "ea5ba59f",
   "metadata": {},
   "outputs": [],
   "source": [
    "scriptDirectory = os.path.dirname(os.path.abspath(\"data\\train.csv\"))\n",
    "\n",
    "dataframe1 = pd.read_csv(os.path.join(scriptDirectory, \"..\", \"data\", \"train.csv\"))\n",
    "dataframe2 = pd.read_csv(os.path.join(scriptDirectory, \"..\", \"data\", \"train_new.csv\"))\n",
    "dataframe = pd.concat([dataframe1, dataframe2], axis=1)"
   ]
  },
  {
   "cell_type": "code",
   "execution_count": 21,
   "id": "419233f6",
   "metadata": {},
   "outputs": [],
   "source": [
    "dataframe.ffill(inplace=True)\n",
    "dataframe.fillna(dataframe.mean(), inplace=True)"
   ]
  },
  {
   "cell_type": "code",
   "execution_count": 22,
   "id": "81997b81",
   "metadata": {},
   "outputs": [],
   "source": [
    "for column in dataframe.columns[1:]:\n",
    "    standardDeviation = dataframe[column].std()\n",
    "    mean = dataframe[column].mean()\n",
    "    upperBound = mean+3*standardDeviation\n",
    "    lowerBound = mean-3*standardDeviation\n",
    "    dataframe[column] = dataframe[column].clip(lowerBound,upperBound)"
   ]
  },
  {
   "cell_type": "code",
   "execution_count": 28,
   "id": "926f107f",
   "metadata": {},
   "outputs": [],
   "source": [
    "inputColumns = dataframe.columns[1:]\n",
    "scaler = StandardScaler()\n",
    "dataframe[inputColumns] = scaler.fit_transform(dataframe[inputColumns])"
   ]
  },
  {
   "cell_type": "code",
   "execution_count": 24,
   "id": "1f1ade15",
   "metadata": {},
   "outputs": [],
   "source": [
    "lags = [1,2,3]\n",
    "rollingAverages = [3,5,10]\n",
    "\n",
    "lagFeatures = {\n",
    "    f\"{column}Lag{lag}\": dataframe[column].shift(lag)\n",
    "    for lag in lags\n",
    "    for column in inputColumns\n",
    "}\n",
    "\n",
    "rollFeatures = {\n",
    "    f\"{column}Roll{rollingAverage}\": dataframe[column].rolling(rollingAverage).mean()\n",
    "    for rollingAverage in rollingAverages\n",
    "    for column in inputColumns\n",
    "}\n",
    "\n",
    "newFeatures = pd.DataFrame({**lagFeatures, **rollFeatures}, index=dataframe.index)\n",
    "dataframe = pd.concat([dataframe, newFeatures], axis=1)\n",
    "\n",
    "dataframe.dropna(inplace=True)\n",
    "\n",
    "dataframe = dataframe.copy()\n",
    "\n",
    "featureColumns = dataframe.drop(columns=[\"time\",\"Y1\",\"Y2\"])\n",
    "targetColumns = dataframe[[\"Y1\",\"Y2\"]]"
   ]
  },
  {
   "cell_type": "code",
   "execution_count": 25,
   "id": "a6c3e29a",
   "metadata": {},
   "outputs": [],
   "source": [
    "splitPoint = int(0.75*len(dataframe))\n",
    "pastfeatureRows = featureColumns.iloc[:splitPoint]\n",
    "futurefeatureValue = featureColumns.iloc[splitPoint:]\n",
    "firsttargetRows = targetColumns.iloc[:splitPoint]\n",
    "lasttargetRows = targetColumns.iloc[splitPoint:]"
   ]
  },
  {
   "cell_type": "code",
   "execution_count": 26,
   "id": "00f1b597",
   "metadata": {},
   "outputs": [],
   "source": [
    "modelY1 = GradientBoostingRegressor(\n",
    "    n_estimators=300,\n",
    "    learning_rate=0.05,\n",
    "    max_depth=4,\n",
    "    min_samples_split=50,\n",
    "    subsample=0.8,\n",
    "    random_state=42,\n",
    "    max_features=\"sqrt\"\n",
    ")\n",
    "\n",
    "modelY2 = GradientBoostingRegressor(\n",
    "    n_estimators=300,\n",
    "    learning_rate=0.05,\n",
    "    max_depth=4,\n",
    "    min_samples_split=50,\n",
    "    subsample=0.8,\n",
    "    random_state=42,\n",
    "    max_features=\"sqrt\"\n",
    ")"
   ]
  },
  {
   "cell_type": "code",
   "execution_count": 29,
   "id": "001cba96",
   "metadata": {},
   "outputs": [
    {
     "name": "stdout",
     "output_type": "stream",
     "text": [
      "R^2 Y1: 0.7413\n",
      "R^2 Y2: 0.5483\n",
      "Average R^2 : 0.6448\n"
     ]
    }
   ],
   "source": [
    "modelY1.fit(pastfeatureRows, firsttargetRows[\"Y1\"])\n",
    "modelY2.fit(pastfeatureRows, firsttargetRows[\"Y2\"])\n",
    "\n",
    "predictedY1 = modelY1.predict(futurefeatureValue)\n",
    "predictedY2 = modelY2.predict(futurefeatureValue)\n",
    "\n",
    "scoreY1 = r2_score(lasttargetRows[\"Y1\"], predictedY1)\n",
    "scoreY2 = r2_score(lasttargetRows[\"Y2\"], predictedY2)\n",
    "averageScore = (scoreY1+scoreY2)/2\n",
    "print(f\"R^2 Y1: {scoreY1:.4f}\")\n",
    "print(f\"R^2 Y2: {scoreY2:.4f}\")\n",
    "print(f\"Average R^2 : {averageScore:.4f}\")"
   ]
  },
  {
   "cell_type": "code",
   "execution_count": 30,
   "id": "28af3c55",
   "metadata": {},
   "outputs": [
    {
     "name": "stdout",
     "output_type": "stream",
     "text": [
      "R^2 Y1: 0.7413\n"
     ]
    }
   ],
   "source": [
    "modelY1.fit(pastfeatureRows, firsttargetRows[\"Y1\"])\n",
    "predictedY1 = modelY1.predict(futurefeatureValue)\n",
    "scoreY1 = r2_score(lasttargetRows[\"Y1\"], predictedY1)\n",
    "print(f\"R^2 Y1: {scoreY1:.4f}\")"
   ]
  },
  {
   "cell_type": "code",
   "execution_count": null,
   "id": "0cc3109f",
   "metadata": {},
   "outputs": [],
   "source": [
    "modelY2.fit(pastfeatureRows, firsttargetRows[\"Y2\"])\n",
    "predictedY2 = modelY2.predict(futurefeatureValue)\n",
    "scoreY2 = r2_score(lasttargetRows[\"Y2\"], predictedY2)\n",
    "print(f\"R^2 Y2: {scoreY2:.4f}\")"
   ]
  },
  {
   "cell_type": "code",
   "execution_count": null,
   "id": "f4717bc1",
   "metadata": {},
   "outputs": [],
   "source": [
    "\n",
    "print(f\"Average R^2 : {(scoreY1+scoreY2)/2:.4f}\")"
   ]
  }
 ],
 "metadata": {
  "kernelspec": {
   "display_name": "Python 3",
   "language": "python",
   "name": "python3"
  },
  "language_info": {
   "codemirror_mode": {
    "name": "ipython",
    "version": 3
   },
   "file_extension": ".py",
   "mimetype": "text/x-python",
   "name": "python",
   "nbconvert_exporter": "python",
   "pygments_lexer": "ipython3",
   "version": "3.13.7"
  }
 },
 "nbformat": 4,
 "nbformat_minor": 5
}
